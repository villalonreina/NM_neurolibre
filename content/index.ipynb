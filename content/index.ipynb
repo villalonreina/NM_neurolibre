{
 "cells": [
  {
   "cell_type": "markdown",
   "id": "ec19e82f",
   "metadata": {},
   "source": [
    "# Normative Modeling DTI"
   ]
  },
  {
   "cell_type": "code",
   "execution_count": 1,
   "id": "20dfd9ca",
   "metadata": {},
   "outputs": [
    {
     "name": "stdout",
     "output_type": "stream",
     "text": [
      "Hello world\n"
     ]
    }
   ],
   "source": [
    "print(\"Hello world\")"
   ]
  },
  {
   "cell_type": "code",
   "execution_count": 2,
   "id": "36fc8e8f",
   "metadata": {},
   "outputs": [],
   "source": [
    "import plotly.graph_objects as go\n",
    "from IPython.display import display, HTML\n",
    "from plotly.offline import init_notebook_mode, iplot, plot\n",
    "\n",
    "import pandas as pd\n",
    "\n",
    "df = pd.read_csv(\"https://raw.githubusercontent.com/plotly/datasets/master/violin_data.csv\")\n",
    "\n",
    "fig = go.Figure()\n",
    "\n",
    "days = ['Thur', 'Fri', 'Sat', 'Sun']\n",
    "\n",
    "for day in days:\n",
    "    fig.add_trace(go.Violin(x=df['day'][df['day'] == day],\n",
    "                            y=df['total_bill'][df['day'] == day],\n",
    "                            name=day,\n",
    "                            box_visible=True,\n",
    "                            meanline_visible=True))\n",
    "\n",
    "plot(fig, filename = 'figure.html')\n",
    "display(HTML('figure.html'))"
   ]
  },
  {
   "cell_type": "code",
   "execution_count": null,
   "id": "ba9a0321",
   "metadata": {},
   "outputs": [],
   "source": []
  }
 ],
 "metadata": {
  "kernelspec": {
   "display_name": "Python 3 (ipykernel)",
   "language": "python",
   "name": "python3"
  },
  "language_info": {
   "codemirror_mode": {
    "name": "ipython",
    "version": 3
   },
   "file_extension": ".py",
   "mimetype": "text/x-python",
   "name": "python",
   "nbconvert_exporter": "python",
   "pygments_lexer": "ipython3",
   "version": "3.9.18"
  }
 },
 "nbformat": 4,
 "nbformat_minor": 5
}
